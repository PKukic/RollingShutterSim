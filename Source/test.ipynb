{
 "cells": [
  {
   "cell_type": "code",
   "execution_count": 13,
   "metadata": {},
   "outputs": [],
   "source": [
    "import SimulationTools as st\n",
    "import Parameters as par\n",
    "import numpy as np"
   ]
  },
  {
   "cell_type": "code",
   "execution_count": 7,
   "metadata": {},
   "outputs": [
    {
     "name": "stdout",
     "output_type": "stream",
     "text": [
      "(46.5, 41.85)\n",
      "315\n"
     ]
    }
   ],
   "source": [
    "a = 1e-3\n",
    "omega_start = 46.5\n",
    "omega_finish = 0.9*omega_start\n",
    "\n",
    "phi = 315\n",
    "\n",
    "print(omega_start, omega_finish)\n",
    "print(phi)"
   ]
  },
  {
   "cell_type": "code",
   "execution_count": 10,
   "metadata": {},
   "outputs": [
    {
     "name": "stdout",
     "output_type": "stream",
     "text": [
      "0.32\n"
     ]
    }
   ],
   "source": [
    "t_meteor = st.timeFromAngle(phi, omega_start, par.img_x, par.img_y, par.scale, par.fps)\n",
    "print(t_meteor)"
   ]
  },
  {
   "cell_type": "code",
   "execution_count": 11,
   "metadata": {},
   "outputs": [
    {
     "name": "stdout",
     "output_type": "stream",
     "text": [
      "17.453400070251064\n"
     ]
    }
   ],
   "source": [
    "b = st.getparam(a, omega_start, omega_finish, t_meteor)\n",
    "print(b)"
   ]
  },
  {
   "cell_type": "code",
   "execution_count": 15,
   "metadata": {},
   "outputs": [
    {
     "name": "stdout",
     "output_type": "stream",
     "text": [
      "41.85\n",
      "True\n"
     ]
    }
   ],
   "source": [
    "omega_dec_fin = omega_start - a*b*np.exp(b*t_meteor)\n",
    "print(omega_dec_fin)\n",
    "print(omega_dec_fin == omega_finish)"
   ]
  },
  {
   "cell_type": "code",
   "execution_count": 22,
   "metadata": {},
   "outputs": [
    {
     "name": "stdout",
     "output_type": "stream",
     "text": [
      "-0.16\n",
      "-0.12\n",
      "-0.08\n",
      "-0.04\n",
      "0.00\n",
      "0.04\n",
      "0.08\n",
      "0.12\n",
      "0.16\n"
     ]
    }
   ],
   "source": [
    "t_arr = np.arange(-t_meteor/2, t_meteor/2 + 0.04, 0.04)\n",
    "for t in t_arr:\n",
    "    print '{:.2f}'.format(t)"
   ]
  },
  {
   "cell_type": "code",
   "execution_count": 24,
   "metadata": {},
   "outputs": [
    {
     "name": "stdout",
     "output_type": "stream",
     "text": [
      "46.48254659992975\n",
      "46.464918620928735\n",
      "46.429486337757204\n",
      "46.35826735736957\n",
      "46.215117023452315\n",
      "45.92738448376857\n",
      "45.34904133829806\n",
      "44.186570127081\n",
      "41.849999999999994\n"
     ]
    }
   ],
   "source": [
    "for t in t_arr:\n",
    "    omega_t = omega_start - a*b*np.exp(b*(t+t_meteor/2))\n",
    "    print omega_t"
   ]
  },
  {
   "cell_type": "code",
   "execution_count": null,
   "metadata": {},
   "outputs": [],
   "source": []
  }
 ],
 "metadata": {
  "kernelspec": {
   "display_name": "Python 2",
   "language": "python",
   "name": "python2"
  },
  "language_info": {
   "codemirror_mode": {
    "name": "ipython",
    "version": 2
   },
   "file_extension": ".py",
   "mimetype": "text/x-python",
   "name": "python",
   "nbconvert_exporter": "python",
   "pygments_lexer": "ipython2",
   "version": "2.7.15rc1"
  }
 },
 "nbformat": 4,
 "nbformat_minor": 2
}
